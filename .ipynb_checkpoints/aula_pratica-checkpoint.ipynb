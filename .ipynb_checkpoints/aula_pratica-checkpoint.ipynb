{
 "cells": [
  {
   "cell_type": "code",
   "execution_count": 2,
   "metadata": {
    "tags": []
   },
   "outputs": [
    {
     "name": "stdout",
     "output_type": "stream",
     "text": [
      "Calculadora simples\n"
     ]
    },
    {
     "name": "stdin",
     "output_type": "stream",
     "text": [
      "Digite o primeiro número:  2\n",
      "Digite o segundo número:  4\n"
     ]
    },
    {
     "name": "stdout",
     "output_type": "stream",
     "text": [
      "A soma de 2.0 e 4.0 é 6.0\n",
      "A multiplicação de 2.0 por 4.0 é 8.0\n"
     ]
    }
   ],
   "source": [
    "# Aula 001 - Esse programa implementa uma calculadora simples para duas operações (soma e multiplicação)\n",
    "print(\"Calculadora simples\")  # Exibe uma mensagem inicial\n",
    "\n",
    "# Solicita ao usuário dois números e converte para float (números decimais)\n",
    "num1 = float(input(\"Digite o primeiro número: \"))\n",
    "num2 = float(input(\"Digite o segundo número: \"))\n",
    "\n",
    "# Realiza a soma e a multiplicação dos números\n",
    "soma = num1 + num2\n",
    "multiplicacao = num1 * num2\n",
    "\n",
    "# Exibe os resultados formatados\n",
    "print(f\"A soma de {num1} e {num2} é {soma}\")\n",
    "print(f\"A multiplicação de {num1} por {num2} é {multiplicacao}\")"
   ]
  },
  {
   "cell_type": "code",
   "execution_count": null,
   "metadata": {},
   "outputs": [],
   "source": [
    "# Aula 002 - Esse programa calcula um desconto baseado no valor da compra\n",
    "compra = float(input(\"Digite o valor da compra: \"))  # Solicita o valor da compra\n",
    "\n",
    "# Verifica se o valor da compra é maior que 100 para aplicar o desconto\n",
    "if compra > 100:\n",
    "    desconto = compra * 0.1  # 10% de desconto\n",
    "    print(f\"Você ganhou um desconto de R$ {desconto:.2f}\")  # Exibe o desconto formatado\n",
    "else:\n",
    "    print(\"Você não tem desconto.\")  # Caso o valor seja menor ou igual a 100, sem desconto"
   ]
  },
  {
   "cell_type": "code",
   "execution_count": null,
   "metadata": {},
   "outputs": [],
   "source": [
    "# Aula 003 - Esse programa calcula a média de 5 notas usando um laço de repetição 'for'\n",
    "soma_notas = 0  # Inicializa a soma das notas com 0\n",
    "\n",
    "# Laço que repete 5 vezes, solicitando uma nota a cada iteração\n",
    "for i in range(5):\n",
    "    nota = float(input(f\"Digite a nota {i+1}: \"))  # Solicita a nota atual\n",
    "    soma_notas += nota  # Adiciona a nota à soma total\n",
    "\n",
    "# Calcula a média dividindo a soma das notas pelo número de notas\n",
    "media = soma_notas / 5\n",
    "print(f\"A média das notas é: {media:.2f}\")  # Exibe a média formatada"
   ]
  },
  {
   "cell_type": "code",
   "execution_count": null,
   "metadata": {},
   "outputs": [],
   "source": [
    "# Aula 004 - Função que calcula a área de um retângulo a partir da largura e altura\n",
    "def calcular_area_retangulo(largura, altura):\n",
    "    return largura * altura  # Retorna a área como produto da largura e altura\n",
    "\n",
    "# Solicita ao usuário a largura e altura do retângulo\n",
    "largura = float(input(\"Digite a largura do retângulo: \"))\n",
    "altura = float(input(\"Digite a altura do retângulo: \"))\n",
    "\n",
    "# Chama a função e armazena o resultado da área\n",
    "area = calcular_area_retangulo(largura, altura)\n",
    "\n",
    "# Exibe a área do retângulo\n",
    "print(f\"A área do retângulo é: {area:.2f}\")"
   ]
  },
  {
   "cell_type": "code",
   "execution_count": null,
   "metadata": {},
   "outputs": [],
   "source": [
    "# Aula 005\n",
    "import random\n",
    "import string\n",
    "\n",
    "# Função para gerar uma senha com caracteres aleatórios\n",
    "def gerar_senha(tamanho):\n",
    "    # Conjunto de caracteres a serem usados: letras, números e símbolos\n",
    "    caracteres = string.ascii_letters + string.digits + string.punctuation\n",
    "    # Gera uma senha aleatória do tamanho especificado\n",
    "    senha = ''.join(random.choice(caracteres) for i in range(tamanho))\n",
    "    return senha  # Retorna a senha gerada\n",
    "\n",
    "# Solicita o tamanho da senha ao usuário\n",
    "tamanho_senha = int(input(\"Digite o tamanho da senha que deseja gerar: \"))\n",
    "\n",
    "# Chama a função e armazena a senha gerada\n",
    "senha = gerar_senha(tamanho_senha)\n",
    "\n",
    "# Exibe a senha gerada\n",
    "print(f\"Sua senha gerada é: {senha}\")"
   ]
  },
  {
   "cell_type": "code",
   "execution_count": null,
   "metadata": {},
   "outputs": [],
   "source": [
    "# Aula 006 -  Programa que realiza uma contagem regressiva de 10 até 0\n",
    "import time  # Importa a biblioteca para controlar o tempo\n",
    "\n",
    "# Laço que começa em 10 e vai até 0\n",
    "for i in range(10, -1, -1):\n",
    "    print(i)  # Exibe o valor atual da contagem\n",
    "    time.sleep(1)  # Aguarda 1 segundo antes de continuar a contagem\n",
    "\n",
    "print(\"Contagem finalizada!\")  # Mensagem final após a contagem regressiva"
   ]
  }
 ],
 "metadata": {
  "kernelspec": {
   "display_name": "Python 3 (ipykernel)",
   "language": "python",
   "name": "python3"
  },
  "language_info": {
   "codemirror_mode": {
    "name": "ipython",
    "version": 3
   },
   "file_extension": ".py",
   "mimetype": "text/x-python",
   "name": "python",
   "nbconvert_exporter": "python",
   "pygments_lexer": "ipython3",
   "version": "3.11.4"
  }
 },
 "nbformat": 4,
 "nbformat_minor": 4
}
